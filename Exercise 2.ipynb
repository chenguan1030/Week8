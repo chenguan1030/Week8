{
 "cells": [
  {
   "cell_type": "code",
   "execution_count": 10,
   "id": "d6d3bde7",
   "metadata": {},
   "outputs": [
    {
     "name": "stdout",
     "output_type": "stream",
     "text": [
      "Please enter the name of a state: j\n",
      "j is not found in the data.\n"
     ]
    }
   ],
   "source": [
    "import requests\n",
    "\n",
    "api_url = \"https://jian.sh/malaysia-api/state/v1/all.json\"\n",
    "response = requests.get(api_url)\n",
    "\n",
    "try:\n",
    "    malaysia_state_data = response.json()\n",
    "    \n",
    "    interest_state = str(input('Please enter the name of a state: '))\n",
    "\n",
    "    found = False\n",
    "    for state in malaysia_state_data:\n",
    "        if interest_state.lower() == state['state'].lower():\n",
    "            print(f\"Population of {state['state']}: {state['population']}\")\n",
    "            found = True\n",
    "            break\n",
    "\n",
    "    if found == False:\n",
    "        print(f\"{interest_state} is not found in the data.\")\n",
    "except error as e:\n",
    "    print(f\"Failed to retrieve data.\")"
   ]
  },
  {
   "cell_type": "code",
   "execution_count": null,
   "id": "8ccd410a",
   "metadata": {},
   "outputs": [],
   "source": []
  }
 ],
 "metadata": {
  "kernelspec": {
   "display_name": "Python 3 (ipykernel)",
   "language": "python",
   "name": "python3"
  },
  "language_info": {
   "codemirror_mode": {
    "name": "ipython",
    "version": 3
   },
   "file_extension": ".py",
   "mimetype": "text/x-python",
   "name": "python",
   "nbconvert_exporter": "python",
   "pygments_lexer": "ipython3",
   "version": "3.11.5"
  }
 },
 "nbformat": 4,
 "nbformat_minor": 5
}
