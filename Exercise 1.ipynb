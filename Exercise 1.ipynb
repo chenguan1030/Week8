{
 "cells": [
  {
   "cell_type": "markdown",
   "id": "ceb26635",
   "metadata": {},
   "source": [
    "# Exercise 1: Processing Student Data with Python"
   ]
  },
  {
   "cell_type": "code",
   "execution_count": 17,
   "id": "7efe2e4f",
   "metadata": {},
   "outputs": [
    {
     "name": "stdout",
     "output_type": "stream",
     "text": [
      "Filtered data saved to top_students.csv\n"
     ]
    },
    {
     "name": "stderr",
     "output_type": "stream",
     "text": [
      "C:\\Users\\Sou Chen Guan\\AppData\\Local\\Temp\\ipykernel_28460\\3534786242.py:17: SettingWithCopyWarning: \n",
      "A value is trying to be set on a copy of a slice from a DataFrame.\n",
      "Try using .loc[row_indexer,col_indexer] = value instead\n",
      "\n",
      "See the caveats in the documentation: https://pandas.pydata.org/pandas-docs/stable/user_guide/indexing.html#returning-a-view-versus-a-copy\n",
      "  filtered_data['Status'] = 'Passed'\n"
     ]
    }
   ],
   "source": [
    "import csv\n",
    "import pandas as pd\n",
    "\n",
    "# Read the CSV file into a DataFrame\n",
    "with open('students.csv', 'r') as file:\n",
    "    csv_reader = csv.reader(file)\n",
    "    # Assuming the first row contains column headers\n",
    "    headers = next(csv_reader)\n",
    "    \n",
    "    # Create a DataFrame from the remaining rows\n",
    "    df = pd.DataFrame(csv_reader, columns=headers)\n",
    "\n",
    "# Filter the data for grades less than or equal to 'B'\n",
    "filtered_data = df[df['Grade'] <= 'B']\n",
    "\n",
    "# Assign 'Passed' to the 'Status' column for the filtered data\n",
    "filtered_data['Status'] = 'Passed'\n",
    "\n",
    "# Save the filtered data to a new CSV file\n",
    "output_file = 'top_students.csv'\n",
    "filtered_data.to_csv(output_file, index=False)\n",
    "\n",
    "print(f\"Filtered data saved to {output_file}\")"
   ]
  },
  {
   "cell_type": "code",
   "execution_count": null,
   "id": "083b0fad",
   "metadata": {},
   "outputs": [],
   "source": []
  }
 ],
 "metadata": {
  "kernelspec": {
   "display_name": "Python 3 (ipykernel)",
   "language": "python",
   "name": "python3"
  },
  "language_info": {
   "codemirror_mode": {
    "name": "ipython",
    "version": 3
   },
   "file_extension": ".py",
   "mimetype": "text/x-python",
   "name": "python",
   "nbconvert_exporter": "python",
   "pygments_lexer": "ipython3",
   "version": "3.11.5"
  }
 },
 "nbformat": 4,
 "nbformat_minor": 5
}
